{
 "cells": [
  {
   "cell_type": "code",
   "execution_count": null,
   "id": "aeebc0f7",
   "metadata": {},
   "outputs": [],
   "source": [
    "import random\n",
    "\n",
    "while True:\n",
    "    your_input = input('Rock, Paper or Scissors?')\n",
    "    computer_choices = ['Rock', 'Paper', 'Scissors']\n",
    "    computer_decision = random.choice(computer_choices)\n",
    "    \n",
    "    if your_input.lower() == computer_decision.lower():\n",
    "        print('You Tied')\n",
    "    elif your_input.lower() == 'paper':\n",
    "        if computer_decision.lower() == 'rock':\n",
    "            print('Paper Beats Rock')\n",
    "        elif computer_decision.lower() == 'scissors':\n",
    "            print('Paper loses to Scissors')\n",
    "    elif your_input.lower() == 'rock':\n",
    "        if computer_decision.lower() == 'scissors':\n",
    "            print('Rock beats Scissors')\n",
    "        elif computer_decision.lower() == 'paper':\n",
    "            print('Rock loses to Paper')\n",
    "    elif your_input.lower() == 'scissors':\n",
    "        if computer_decision.lower() == 'paper':\n",
    "            print('Scissors beats Paper')\n",
    "        elif computer_decision.lower() == 'rock':\n",
    "            print('Scissors lose to Rock')\n",
    "    response = input('Want to play another round?')\n",
    "    if response.lower() == 'yes':\n",
    "        continue\n",
    "    elif response.lower() == 'no':\n",
    "        break"
   ]
  },
  {
   "cell_type": "code",
   "execution_count": null,
   "id": "c317f1ce",
   "metadata": {},
   "outputs": [],
   "source": []
  }
 ],
 "metadata": {
  "kernelspec": {
   "display_name": "Python 3 (ipykernel)",
   "language": "python",
   "name": "python3"
  },
  "language_info": {
   "codemirror_mode": {
    "name": "ipython",
    "version": 3
   },
   "file_extension": ".py",
   "mimetype": "text/x-python",
   "name": "python",
   "nbconvert_exporter": "python",
   "pygments_lexer": "ipython3",
   "version": "3.9.13"
  }
 },
 "nbformat": 4,
 "nbformat_minor": 5
}
